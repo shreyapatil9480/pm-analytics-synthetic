{
 "cells": [
  {
   "cell_type": "markdown",
   "id": "299f6053",
   "metadata": {},
   "source": [
    "# Project Management Analytics\n",
    "\n",
    "    This notebook accompanies a synthetic dataset of project management metrics. The goal is to explore the data, build some basic visualizations, and train a simple predictive model to classify project outcomes (success vs. failure).\n",
    "\n",
    "    The dataset contains the following columns:\n",
    "\n",
    "    - **project_id**: Unique identifier for each project.\n",
    "    - **planned_start**, **planned_end**, **actual_end**: Dates representing the planned and actual schedules.\n",
    "    - **planned_duration_days**: Number of days planned for the project duration.\n",
    "    - **delay_days**: Difference between planned and actual end dates (positive means delay, negative means finished early).\n",
    "    - **budget**: Planned budget in USD.\n",
    "    - **actual_cost**: Actual cost incurred in USD.\n",
    "    - **team_size**: Number of people assigned to the project.\n",
    "    - **complexity**: Ordinal complexity score (1–5).\n",
    "    - **risk_score**: Continuous risk score (0–1).\n",
    "    - **success**: Binary outcome (1 for successful projects, 0 for failed).\n",
    "\n",
    "    We'll perform exploratory data analysis (EDA) followed by a simple predictive model using logistic regression."
   ]
  },
  {
   "cell_type": "code",
   "execution_count": null,
   "id": "85b7879f",
   "metadata": {},
   "outputs": [],
   "source": [
    "import pandas as pd\n",
    "import matplotlib.pyplot as plt\n",
    "import seaborn as sns\n",
    "from sklearn.model_selection import train_test_split\n",
    "from sklearn.preprocessing import StandardScaler\n",
    "from sklearn.linear_model import LogisticRegression\n",
    "from sklearn.metrics import classification_report, confusion_matrix\n",
    "\n",
    "# Set plotting style\n",
    "sns.set(style=\"whitegrid\", palette=\"tab10\")"
   ]
  },
  {
   "cell_type": "code",
   "execution_count": null,
   "id": "a67a6d61",
   "metadata": {},
   "outputs": [],
   "source": [
    "# Load the synthetic project dataset\n",
    "data = pd.read_csv(r\"synthetic_project_data.csv\")\n",
    "\n",
    "# Display the first few rows\n",
    "data.head()"
   ]
  },
  {
   "cell_type": "code",
   "execution_count": null,
   "id": "fc929b54",
   "metadata": {},
   "outputs": [],
   "source": [
    "# Summary statistics for numerical columns\n",
    "data.describe()\n",
    "\n",
    "# Check for missing values\n",
    "data.isnull().sum()"
   ]
  },
  {
   "cell_type": "code",
   "execution_count": null,
   "id": "1872a871",
   "metadata": {},
   "outputs": [],
   "source": [
    "# Histogram of project durations and delays\n",
    "fig, axes = plt.subplots(1, 2, figsize=(12, 5))\n",
    "sns.histplot(data['planned_duration_days'], ax=axes[0], bins=20, kde=False)\n",
    "axes[0].set_title('Planned Duration (days)')\n",
    "axes[0].set_xlabel('Days')\n",
    "axes[0].set_ylabel('Count')\n",
    "\n",
    "sns.histplot(data['delay_days'], ax=axes[1], bins=20, kde=False, color='orange')\n",
    "axes[1].set_title('Delay (days)')\n",
    "axes[1].set_xlabel('Days late/early')\n",
    "axes[1].set_ylabel('Count')\n",
    "plt.tight_layout()\n",
    "\n",
    "# Boxplots to compare cost and budget by success\n",
    "fig, axes = plt.subplots(1, 2, figsize=(12, 5))\n",
    "sns.boxplot(x='success', y='budget', data=data, ax=axes[0])\n",
    "axes[0].set_title('Budget Distribution by Success')\n",
    "axes[0].set_xlabel('Success (1=yes, 0=no)')\n",
    "axes[0].set_ylabel('Budget (USD)')\n",
    "\n",
    "sns.boxplot(x='success', y='actual_cost', data=data, ax=axes[1], color='salmon')\n",
    "axes[1].set_title('Actual Cost Distribution by Success')\n",
    "axes[1].set_xlabel('Success (1=yes, 0=no)')\n",
    "axes[1].set_ylabel('Actual Cost (USD)')\n",
    "plt.tight_layout()\n",
    "\n",
    "# Correlation heatmap\n",
    "numeric_cols = ['planned_duration_days', 'delay_days', 'budget', 'actual_cost', 'team_size', 'complexity', 'risk_score']\n",
    "corr = data[numeric_cols + ['success']].corr()\n",
    "plt.figure(figsize=(10, 8))\n",
    "sns.heatmap(corr, annot=True, cmap='coolwarm', fmt='.2f')\n",
    "plt.title('Correlation Matrix')\n",
    "plt.show()"
   ]
  },
  {
   "cell_type": "code",
   "execution_count": null,
   "id": "676dda66",
   "metadata": {},
   "outputs": [],
   "source": [
    "# Prepare feature matrix X and target vector y\n",
    "feature_cols = ['planned_duration_days', 'delay_days', 'budget', 'actual_cost', 'team_size', 'complexity', 'risk_score']\n",
    "X = data[feature_cols]\n",
    "y = data['success']\n",
    "\n",
    "# Train-test split\n",
    "X_train, X_test, y_train, y_test = train_test_split(X, y, test_size=0.3, random_state=42, stratify=y)\n",
    "\n",
    "# Standardize features\n",
    "scaler = StandardScaler()\n",
    "X_train_scaled = scaler.fit_transform(X_train)\n",
    "X_test_scaled = scaler.transform(X_test)\n",
    "\n",
    "# Fit logistic regression model\n",
    "clf = LogisticRegression(max_iter=1000)\n",
    "clf.fit(X_train_scaled, y_train)\n",
    "\n",
    "# Predictions and evaluation\n",
    "y_pred = clf.predict(X_test_scaled)\n",
    "print(\"Classification Report:\", classification_report(y_test, y_pred))\n",
    "print(\"Confusion Matrix:\", confusion_matrix(y_test, y_pred))"
   ]
  }
 ],
 "metadata": {
  "kernelspec": {
   "display_name": "Python 3",
   "language": "python",
   "name": "python3"
  },
  "language_info": {
   "codemirror_mode": {
    "name": "ipython",
    "version": 3
   },
   "file_extension": ".py",
   "mimetype": "text/x-python",
   "name": "python",
   "nbconvert_exporter": "python",
   "pygments_lexer": "ipython3",
   "version": "3.12.1"
  }
 },
 "nbformat": 4,
 "nbformat_minor": 5
}
